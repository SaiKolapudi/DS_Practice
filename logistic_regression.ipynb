{
  "nbformat": 4,
  "nbformat_minor": 0,
  "metadata": {
    "colab": {
      "provenance": [],
      "mount_file_id": "1gEKXywEhlm7r43KawA0zQ2l95oI2nPnj",
      "authorship_tag": "ABX9TyMubbz9oNuzBjE5Baxf5UKt",
      "include_colab_link": true
    },
    "kernelspec": {
      "name": "python3",
      "display_name": "Python 3"
    },
    "language_info": {
      "name": "python"
    }
  },
  "cells": [
    {
      "cell_type": "markdown",
      "metadata": {
        "id": "view-in-github",
        "colab_type": "text"
      },
      "source": [
        "<a href=\"https://colab.research.google.com/github/SaiKolapudi/DS_Practice/blob/main/logistic_regression.ipynb\" target=\"_parent\"><img src=\"https://colab.research.google.com/assets/colab-badge.svg\" alt=\"Open In Colab\"/></a>"
      ]
    },
    {
      "cell_type": "markdown",
      "source": [
        "**Sai Kolapudi** \n",
        "\n",
        "11602684"
      ],
      "metadata": {
        "id": "X4pnL_vfv_5r"
      }
    },
    {
      "cell_type": "markdown",
      "source": [
        "Develop and evaluate a logistic model to predict the quality (such as high quality and low quality) of red wines according to the several features and calculating test scores. Write your model in Python.\n",
        "\n",
        "Features that affect wine quality : 'fixed acidity', 'volatile acidity', 'citric acid', 'residual sugar', 'chlorides', 'free sulfur dioxide', 'total sulfur dioxide', 'density', 'pH', 'sulphates', 'alcohol' .\n",
        "\n",
        "Please split 80% data for training and 20% data for testing.\n",
        "\n",
        "Calculate the accuracy of the prediction. "
      ],
      "metadata": {
        "id": "ftn-aGr7xGWL"
      }
    },
    {
      "cell_type": "code",
      "source": [
        "import numpy as np\n",
        "import pandas as pd\n",
        "from sklearn.preprocessing import StandardScaler"
      ],
      "metadata": {
        "id": "UofBJYfOvEmk"
      },
      "execution_count": 26,
      "outputs": []
    },
    {
      "cell_type": "code",
      "source": [
        "import io\n",
        "data=pd.read_csv('/content/winequality-red.csv')"
      ],
      "metadata": {
        "id": "VxDtdCd2WR3M"
      },
      "execution_count": 27,
      "outputs": []
    },
    {
      "cell_type": "code",
      "source": [
        "data.head()"
      ],
      "metadata": {
        "colab": {
          "base_uri": "https://localhost:8080/",
          "height": 267
        },
        "id": "EnMBp9SjWyq_",
        "outputId": "68a186d7-762a-4e70-8438-b59b6d4a2e46"
      },
      "execution_count": 28,
      "outputs": [
        {
          "output_type": "execute_result",
          "data": {
            "text/plain": [
              "   fixed acidity  volatile acidity  citric acid  residual sugar  chlorides  \\\n",
              "0            7.4              0.70         0.00             1.9      0.076   \n",
              "1            7.8              0.88         0.00             2.6      0.098   \n",
              "2            7.8              0.76         0.04             2.3      0.092   \n",
              "3           11.2              0.28         0.56             1.9      0.075   \n",
              "4            7.4              0.70         0.00             1.9      0.076   \n",
              "\n",
              "   free sulfur dioxide  total sulfur dioxide  density    pH  sulphates  \\\n",
              "0                 11.0                  34.0   0.9978  3.51       0.56   \n",
              "1                 25.0                  67.0   0.9968  3.20       0.68   \n",
              "2                 15.0                  54.0   0.9970  3.26       0.65   \n",
              "3                 17.0                  60.0   0.9980  3.16       0.58   \n",
              "4                 11.0                  34.0   0.9978  3.51       0.56   \n",
              "\n",
              "   alcohol  quality  \n",
              "0      9.4        5  \n",
              "1      9.8        5  \n",
              "2      9.8        5  \n",
              "3      9.8        6  \n",
              "4      9.4        5  "
            ],
            "text/html": [
              "\n",
              "  <div id=\"df-e412e516-18cc-4358-9e37-cc21bbaf4831\">\n",
              "    <div class=\"colab-df-container\">\n",
              "      <div>\n",
              "<style scoped>\n",
              "    .dataframe tbody tr th:only-of-type {\n",
              "        vertical-align: middle;\n",
              "    }\n",
              "\n",
              "    .dataframe tbody tr th {\n",
              "        vertical-align: top;\n",
              "    }\n",
              "\n",
              "    .dataframe thead th {\n",
              "        text-align: right;\n",
              "    }\n",
              "</style>\n",
              "<table border=\"1\" class=\"dataframe\">\n",
              "  <thead>\n",
              "    <tr style=\"text-align: right;\">\n",
              "      <th></th>\n",
              "      <th>fixed acidity</th>\n",
              "      <th>volatile acidity</th>\n",
              "      <th>citric acid</th>\n",
              "      <th>residual sugar</th>\n",
              "      <th>chlorides</th>\n",
              "      <th>free sulfur dioxide</th>\n",
              "      <th>total sulfur dioxide</th>\n",
              "      <th>density</th>\n",
              "      <th>pH</th>\n",
              "      <th>sulphates</th>\n",
              "      <th>alcohol</th>\n",
              "      <th>quality</th>\n",
              "    </tr>\n",
              "  </thead>\n",
              "  <tbody>\n",
              "    <tr>\n",
              "      <th>0</th>\n",
              "      <td>7.4</td>\n",
              "      <td>0.70</td>\n",
              "      <td>0.00</td>\n",
              "      <td>1.9</td>\n",
              "      <td>0.076</td>\n",
              "      <td>11.0</td>\n",
              "      <td>34.0</td>\n",
              "      <td>0.9978</td>\n",
              "      <td>3.51</td>\n",
              "      <td>0.56</td>\n",
              "      <td>9.4</td>\n",
              "      <td>5</td>\n",
              "    </tr>\n",
              "    <tr>\n",
              "      <th>1</th>\n",
              "      <td>7.8</td>\n",
              "      <td>0.88</td>\n",
              "      <td>0.00</td>\n",
              "      <td>2.6</td>\n",
              "      <td>0.098</td>\n",
              "      <td>25.0</td>\n",
              "      <td>67.0</td>\n",
              "      <td>0.9968</td>\n",
              "      <td>3.20</td>\n",
              "      <td>0.68</td>\n",
              "      <td>9.8</td>\n",
              "      <td>5</td>\n",
              "    </tr>\n",
              "    <tr>\n",
              "      <th>2</th>\n",
              "      <td>7.8</td>\n",
              "      <td>0.76</td>\n",
              "      <td>0.04</td>\n",
              "      <td>2.3</td>\n",
              "      <td>0.092</td>\n",
              "      <td>15.0</td>\n",
              "      <td>54.0</td>\n",
              "      <td>0.9970</td>\n",
              "      <td>3.26</td>\n",
              "      <td>0.65</td>\n",
              "      <td>9.8</td>\n",
              "      <td>5</td>\n",
              "    </tr>\n",
              "    <tr>\n",
              "      <th>3</th>\n",
              "      <td>11.2</td>\n",
              "      <td>0.28</td>\n",
              "      <td>0.56</td>\n",
              "      <td>1.9</td>\n",
              "      <td>0.075</td>\n",
              "      <td>17.0</td>\n",
              "      <td>60.0</td>\n",
              "      <td>0.9980</td>\n",
              "      <td>3.16</td>\n",
              "      <td>0.58</td>\n",
              "      <td>9.8</td>\n",
              "      <td>6</td>\n",
              "    </tr>\n",
              "    <tr>\n",
              "      <th>4</th>\n",
              "      <td>7.4</td>\n",
              "      <td>0.70</td>\n",
              "      <td>0.00</td>\n",
              "      <td>1.9</td>\n",
              "      <td>0.076</td>\n",
              "      <td>11.0</td>\n",
              "      <td>34.0</td>\n",
              "      <td>0.9978</td>\n",
              "      <td>3.51</td>\n",
              "      <td>0.56</td>\n",
              "      <td>9.4</td>\n",
              "      <td>5</td>\n",
              "    </tr>\n",
              "  </tbody>\n",
              "</table>\n",
              "</div>\n",
              "      <button class=\"colab-df-convert\" onclick=\"convertToInteractive('df-e412e516-18cc-4358-9e37-cc21bbaf4831')\"\n",
              "              title=\"Convert this dataframe to an interactive table.\"\n",
              "              style=\"display:none;\">\n",
              "        \n",
              "  <svg xmlns=\"http://www.w3.org/2000/svg\" height=\"24px\"viewBox=\"0 0 24 24\"\n",
              "       width=\"24px\">\n",
              "    <path d=\"M0 0h24v24H0V0z\" fill=\"none\"/>\n",
              "    <path d=\"M18.56 5.44l.94 2.06.94-2.06 2.06-.94-2.06-.94-.94-2.06-.94 2.06-2.06.94zm-11 1L8.5 8.5l.94-2.06 2.06-.94-2.06-.94L8.5 2.5l-.94 2.06-2.06.94zm10 10l.94 2.06.94-2.06 2.06-.94-2.06-.94-.94-2.06-.94 2.06-2.06.94z\"/><path d=\"M17.41 7.96l-1.37-1.37c-.4-.4-.92-.59-1.43-.59-.52 0-1.04.2-1.43.59L10.3 9.45l-7.72 7.72c-.78.78-.78 2.05 0 2.83L4 21.41c.39.39.9.59 1.41.59.51 0 1.02-.2 1.41-.59l7.78-7.78 2.81-2.81c.8-.78.8-2.07 0-2.86zM5.41 20L4 18.59l7.72-7.72 1.47 1.35L5.41 20z\"/>\n",
              "  </svg>\n",
              "      </button>\n",
              "      \n",
              "  <style>\n",
              "    .colab-df-container {\n",
              "      display:flex;\n",
              "      flex-wrap:wrap;\n",
              "      gap: 12px;\n",
              "    }\n",
              "\n",
              "    .colab-df-convert {\n",
              "      background-color: #E8F0FE;\n",
              "      border: none;\n",
              "      border-radius: 50%;\n",
              "      cursor: pointer;\n",
              "      display: none;\n",
              "      fill: #1967D2;\n",
              "      height: 32px;\n",
              "      padding: 0 0 0 0;\n",
              "      width: 32px;\n",
              "    }\n",
              "\n",
              "    .colab-df-convert:hover {\n",
              "      background-color: #E2EBFA;\n",
              "      box-shadow: 0px 1px 2px rgba(60, 64, 67, 0.3), 0px 1px 3px 1px rgba(60, 64, 67, 0.15);\n",
              "      fill: #174EA6;\n",
              "    }\n",
              "\n",
              "    [theme=dark] .colab-df-convert {\n",
              "      background-color: #3B4455;\n",
              "      fill: #D2E3FC;\n",
              "    }\n",
              "\n",
              "    [theme=dark] .colab-df-convert:hover {\n",
              "      background-color: #434B5C;\n",
              "      box-shadow: 0px 1px 3px 1px rgba(0, 0, 0, 0.15);\n",
              "      filter: drop-shadow(0px 1px 2px rgba(0, 0, 0, 0.3));\n",
              "      fill: #FFFFFF;\n",
              "    }\n",
              "  </style>\n",
              "\n",
              "      <script>\n",
              "        const buttonEl =\n",
              "          document.querySelector('#df-e412e516-18cc-4358-9e37-cc21bbaf4831 button.colab-df-convert');\n",
              "        buttonEl.style.display =\n",
              "          google.colab.kernel.accessAllowed ? 'block' : 'none';\n",
              "\n",
              "        async function convertToInteractive(key) {\n",
              "          const element = document.querySelector('#df-e412e516-18cc-4358-9e37-cc21bbaf4831');\n",
              "          const dataTable =\n",
              "            await google.colab.kernel.invokeFunction('convertToInteractive',\n",
              "                                                     [key], {});\n",
              "          if (!dataTable) return;\n",
              "\n",
              "          const docLinkHtml = 'Like what you see? Visit the ' +\n",
              "            '<a target=\"_blank\" href=https://colab.research.google.com/notebooks/data_table.ipynb>data table notebook</a>'\n",
              "            + ' to learn more about interactive tables.';\n",
              "          element.innerHTML = '';\n",
              "          dataTable['output_type'] = 'display_data';\n",
              "          await google.colab.output.renderOutput(dataTable, element);\n",
              "          const docLink = document.createElement('div');\n",
              "          docLink.innerHTML = docLinkHtml;\n",
              "          element.appendChild(docLink);\n",
              "        }\n",
              "      </script>\n",
              "    </div>\n",
              "  </div>\n",
              "  "
            ]
          },
          "metadata": {},
          "execution_count": 28
        }
      ]
    },
    {
      "cell_type": "code",
      "source": [
        "data.shape"
      ],
      "metadata": {
        "colab": {
          "base_uri": "https://localhost:8080/"
        },
        "id": "t0moYAOZW4Z3",
        "outputId": "7ccb1d55-339e-4016-d834-1a2cd0199777"
      },
      "execution_count": 29,
      "outputs": [
        {
          "output_type": "execute_result",
          "data": {
            "text/plain": [
              "(1599, 12)"
            ]
          },
          "metadata": {},
          "execution_count": 29
        }
      ]
    },
    {
      "cell_type": "code",
      "source": [
        "## Predictor variable\n",
        "x=data.iloc[:,0:-1]"
      ],
      "metadata": {
        "id": "peMEB-0IW81r"
      },
      "execution_count": 30,
      "outputs": []
    },
    {
      "cell_type": "code",
      "source": [
        "## Unique values in the quality\n",
        "data['quality'].unique()"
      ],
      "metadata": {
        "colab": {
          "base_uri": "https://localhost:8080/"
        },
        "id": "w4NYzFFM4ebd",
        "outputId": "89dd7d3f-2cc9-459a-94c6-a7d92e733f1d"
      },
      "execution_count": 31,
      "outputs": [
        {
          "output_type": "execute_result",
          "data": {
            "text/plain": [
              "array([5, 6, 7, 4, 8, 3])"
            ]
          },
          "metadata": {},
          "execution_count": 31
        }
      ]
    },
    {
      "cell_type": "code",
      "source": [
        "##  we have 6 types of quality, we are deviding it into 3 categories as good,moderate,bad\n",
        "\n",
        "## 3,4 ===================>bad\n",
        "## 5,6 ====================>moderate\n",
        "## 7,8 ======================> good\n",
        "\n",
        "rating = []\n",
        "for i in data['quality']:\n",
        "    if i == 3 or i == 4 or i==5:\n",
        "        rating.append('1')\n",
        "    elif i == 6 or i == 7:\n",
        "        rating.append('2')\n",
        "    elif i == 7 or i == 8:\n",
        "        rating.append('3')\n",
        "data['Reviews'] = rating"
      ],
      "metadata": {
        "id": "OOBqqe53rWvF"
      },
      "execution_count": 32,
      "outputs": []
    },
    {
      "cell_type": "code",
      "source": [
        "## Target variable\n",
        "y=data['Reviews']"
      ],
      "metadata": {
        "id": "R_4QugV7rfvG"
      },
      "execution_count": 33,
      "outputs": []
    },
    {
      "cell_type": "code",
      "source": [
        "y"
      ],
      "metadata": {
        "colab": {
          "base_uri": "https://localhost:8080/"
        },
        "id": "r6qvbQqertYj",
        "outputId": "9d7e76de-5649-4a47-e2b0-ed4c2ef8aae4"
      },
      "execution_count": 34,
      "outputs": [
        {
          "output_type": "execute_result",
          "data": {
            "text/plain": [
              "0       1\n",
              "1       1\n",
              "2       1\n",
              "3       2\n",
              "4       1\n",
              "       ..\n",
              "1594    1\n",
              "1595    2\n",
              "1596    2\n",
              "1597    1\n",
              "1598    2\n",
              "Name: Reviews, Length: 1599, dtype: object"
            ]
          },
          "metadata": {},
          "execution_count": 34
        }
      ]
    },
    {
      "cell_type": "code",
      "source": [
        "## Splitting the data as 80 % for training and 20 % percent for testing as mentioned \n",
        "from sklearn.model_selection import train_test_split\n",
        "x_train,x_test,y_train,y_test= train_test_split(x,y,test_size=0.2, random_state=42,shuffle=True)"
      ],
      "metadata": {
        "id": "T9y5xagHCa7F"
      },
      "execution_count": 37,
      "outputs": []
    },
    {
      "cell_type": "code",
      "source": [
        "## fitting our data using standardscaler\n",
        "from sklearn.preprocessing import StandardScaler"
      ],
      "metadata": {
        "id": "tNrhOArgCt4K"
      },
      "execution_count": 38,
      "outputs": []
    },
    {
      "cell_type": "code",
      "source": [
        "nrml=StandardScaler()\n",
        "\n",
        "x_train=nrml.fit_transform(x_train)\n",
        "x_test=nrml.fit_transform(x_test)"
      ],
      "metadata": {
        "id": "bfFpPqjlEqh0"
      },
      "execution_count": 39,
      "outputs": []
    },
    {
      "cell_type": "code",
      "source": [
        "x_test"
      ],
      "metadata": {
        "colab": {
          "base_uri": "https://localhost:8080/"
        },
        "id": "vp3oNO-aE4y-",
        "outputId": "206d24df-09ad-4608-8fdc-81c2c338f6ad"
      },
      "execution_count": 40,
      "outputs": [
        {
          "output_type": "execute_result",
          "data": {
            "text/plain": [
              "array([[-3.33991288e-01,  2.42581186e-01, -9.63136787e-01, ...,\n",
              "        -4.42561113e-01,  6.34928030e-02, -7.55088351e-01],\n",
              "       [-2.78643172e-01, -9.49230728e-02, -4.94583756e-01, ...,\n",
              "         5.19964189e-01, -1.15964614e+00, -8.44713081e-01],\n",
              "       [ 1.32645219e+00,  8.61338994e-01, -2.34276516e-01, ...,\n",
              "        -1.85887699e-01,  2.23796204e+00, -4.86214161e-01],\n",
              "       ...,\n",
              "       [-1.90259149e-03,  4.67584025e-01, -7.80921719e-02, ...,\n",
              "        -1.02007629e+00, -8.19885325e-01, -5.75838891e-01],\n",
              "       [ 2.74837989e-01, -1.38868940e+00,  6.50768099e-01, ...,\n",
              "        -1.02007629e+00,  2.67349294e-01,  6.78907330e-01],\n",
              "       [ 4.40882337e-01,  1.39572074e+00, -1.17138258e+00, ...,\n",
              "        -1.21719346e-01, -7.51933161e-01, -6.65463621e-01]])"
            ]
          },
          "metadata": {},
          "execution_count": 40
        }
      ]
    },
    {
      "cell_type": "code",
      "source": [
        "## Buiding our logistic Regression Model\n",
        "from sklearn.linear_model import LogisticRegression"
      ],
      "metadata": {
        "id": "yGSstBYRjXw4"
      },
      "execution_count": 41,
      "outputs": []
    },
    {
      "cell_type": "code",
      "source": [
        "LogReg=LogisticRegression()"
      ],
      "metadata": {
        "id": "ERaMN11Fkl_b"
      },
      "execution_count": 42,
      "outputs": []
    },
    {
      "cell_type": "code",
      "source": [
        "LogReg.fit(x_train,y_train)"
      ],
      "metadata": {
        "colab": {
          "base_uri": "https://localhost:8080/"
        },
        "id": "BDDznouBlHde",
        "outputId": "841b319b-8462-47f1-f6b3-499d02117337"
      },
      "execution_count": 43,
      "outputs": [
        {
          "output_type": "execute_result",
          "data": {
            "text/plain": [
              "LogisticRegression()"
            ]
          },
          "metadata": {},
          "execution_count": 43
        }
      ]
    },
    {
      "cell_type": "code",
      "source": [
        "## Predicting our data\n",
        "predict=LogReg.predict(x_test)"
      ],
      "metadata": {
        "id": "RWCSm9i7m8SN"
      },
      "execution_count": 44,
      "outputs": []
    },
    {
      "cell_type": "code",
      "source": [
        "print(predict)"
      ],
      "metadata": {
        "colab": {
          "base_uri": "https://localhost:8080/"
        },
        "id": "WdD-z_zhn8Is",
        "outputId": "27369665-2ec1-4ebd-af78-944eb8891ce7"
      },
      "execution_count": 45,
      "outputs": [
        {
          "output_type": "stream",
          "name": "stdout",
          "text": [
            "['1' '1' '2' '1' '2' '1' '1' '1' '2' '2' '2' '1' '2' '1' '1' '2' '1' '1'\n",
            " '2' '1' '1' '1' '2' '2' '1' '1' '2' '1' '1' '2' '1' '1' '2' '1' '1' '1'\n",
            " '2' '2' '1' '2' '1' '1' '2' '1' '2' '2' '2' '1' '1' '2' '1' '1' '2' '2'\n",
            " '1' '1' '2' '1' '2' '1' '2' '2' '1' '1' '2' '1' '2' '1' '2' '1' '2' '1'\n",
            " '2' '2' '2' '1' '2' '2' '2' '2' '1' '2' '1' '2' '2' '2' '1' '2' '2' '1'\n",
            " '2' '1' '2' '2' '1' '2' '1' '2' '1' '2' '1' '1' '2' '2' '1' '2' '2' '1'\n",
            " '2' '1' '2' '1' '2' '1' '2' '2' '2' '1' '1' '2' '2' '1' '2' '1' '1' '1'\n",
            " '2' '2' '1' '2' '2' '1' '1' '2' '2' '1' '1' '1' '1' '2' '2' '2' '2' '1'\n",
            " '2' '1' '2' '1' '2' '1' '2' '2' '1' '2' '2' '2' '1' '2' '1' '2' '2' '2'\n",
            " '2' '1' '1' '2' '1' '1' '1' '1' '1' '1' '2' '1' '1' '2' '2' '1' '1' '1'\n",
            " '1' '2' '1' '2' '1' '2' '1' '2' '2' '1' '1' '2' '1' '2' '2' '1' '1' '1'\n",
            " '1' '2' '1' '2' '1' '1' '2' '2' '1' '2' '2' '2' '2' '1' '2' '2' '2' '2'\n",
            " '1' '1' '2' '1' '1' '2' '2' '2' '1' '1' '1' '2' '1' '1' '1' '1' '2' '2'\n",
            " '2' '2' '1' '2' '1' '1' '2' '1' '2' '2' '1' '1' '2' '1' '2' '1' '2' '2'\n",
            " '1' '1' '1' '1' '2' '2' '2' '2' '2' '2' '1' '2' '2' '2' '1' '1' '2' '2'\n",
            " '1' '2' '1' '1' '1' '1' '2' '2' '2' '1' '2' '1' '1' '1' '1' '2' '1' '2'\n",
            " '1' '2' '1' '2' '2' '1' '1' '2' '1' '2' '2' '2' '1' '1' '2' '1' '1' '1'\n",
            " '2' '2' '2' '2' '2' '1' '1' '1' '1' '2' '1' '1' '2' '1']\n"
          ]
        }
      ]
    },
    {
      "cell_type": "code",
      "source": [
        "## Caluculating our error\n",
        "from sklearn import metrics\n",
        "print(\"The prediction error of the model1\")\n",
        "print('MAE:', metrics.mean_absolute_error(y_test, predict))\n",
        "print('MSE:', metrics.mean_squared_error(y_test, predict))\n",
        "print('RMSE:', np.sqrt(metrics.mean_squared_error(y_test, predict)))"
      ],
      "metadata": {
        "colab": {
          "base_uri": "https://localhost:8080/"
        },
        "id": "7ztC0S3bn-FE",
        "outputId": "5b5d1009-89f1-47ab-dd79-08c2e2068b90"
      },
      "execution_count": 46,
      "outputs": [
        {
          "output_type": "stream",
          "name": "stdout",
          "text": [
            "The prediction error of the model1\n",
            "MAE: 0.275\n",
            "MSE: 0.275\n",
            "RMSE: 0.5244044240850758\n"
          ]
        }
      ]
    },
    {
      "cell_type": "code",
      "source": [
        "## Predicting with LR.score accuracy\n",
        "Accuracy=LogReg.score(x_test, y_test)"
      ],
      "metadata": {
        "id": "VVb_7UM4oGoW"
      },
      "execution_count": 47,
      "outputs": []
    },
    {
      "cell_type": "code",
      "source": [
        "\n",
        "Accuracy"
      ],
      "metadata": {
        "colab": {
          "base_uri": "https://localhost:8080/"
        },
        "id": "Ae5DYm4AoYSQ",
        "outputId": "a2efc176-b035-4c6e-91fe-c8414fda49c9"
      },
      "execution_count": 48,
      "outputs": [
        {
          "output_type": "execute_result",
          "data": {
            "text/plain": [
              "0.725"
            ]
          },
          "metadata": {},
          "execution_count": 48
        }
      ]
    },
    {
      "cell_type": "code",
      "source": [
        "\n",
        "from sklearn.metrics import confusion_matrix\n",
        "Conf_Matrix = confusion_matrix(y_test, predict)\n"
      ],
      "metadata": {
        "id": "cBgQxttPmQs_"
      },
      "execution_count": 55,
      "outputs": []
    },
    {
      "cell_type": "code",
      "source": [
        "Conf_Matrix"
      ],
      "metadata": {
        "colab": {
          "base_uri": "https://localhost:8080/"
        },
        "id": "wszE1lOanAUb",
        "outputId": "c0f061b9-86ff-4095-dfc8-f365b4b38a8e"
      },
      "execution_count": 57,
      "outputs": [
        {
          "output_type": "execute_result",
          "data": {
            "text/plain": [
              "array([[109,  32,   0],\n",
              "       [ 51, 123,   0],\n",
              "       [  0,   5,   0]])"
            ]
          },
          "metadata": {},
          "execution_count": 57
        }
      ]
    },
    {
      "cell_type": "code",
      "source": [
        "## predicting the accuracy using accuracy_score\n",
        "\n",
        "from sklearn.metrics import accuracy_score\n",
        "ac_score = accuracy_score(y_test, predict)"
      ],
      "metadata": {
        "id": "9kVW76jxnKnI"
      },
      "execution_count": 60,
      "outputs": []
    },
    {
      "cell_type": "code",
      "source": [
        "ac_score"
      ],
      "metadata": {
        "colab": {
          "base_uri": "https://localhost:8080/"
        },
        "id": "wA2f0u3HnfgK",
        "outputId": "a062985c-9edb-4d16-810f-97693d60b8e9"
      },
      "execution_count": 61,
      "outputs": [
        {
          "output_type": "execute_result",
          "data": {
            "text/plain": [
              "0.725"
            ]
          },
          "metadata": {},
          "execution_count": 61
        }
      ]
    }
  ]
}